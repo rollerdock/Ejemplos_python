{
 "cells": [
  {
   "cell_type": "code",
   "execution_count": 3,
   "metadata": {},
   "outputs": [
    {
     "name": "stdout",
     "output_type": "stream",
     "text": [
      "0 .- 1\n",
      "1 .- X\n",
      "2 .- X\n",
      "3 .- 2\n",
      "4 .- 1\n",
      "5 .- 1\n",
      "6 .- X\n",
      "7 .- X\n",
      "8 .- 1\n",
      "9 .- 2\n",
      "10 .- X\n",
      "11 .- X\n",
      "12 .- 1\n",
      "13 .- 2\n"
     ]
    }
   ],
   "source": [
    "import random\n",
    "\n",
    "for num in range(0,14):\n",
    "    a = random.randint(1,3)\n",
    "    if a==3:\n",
    "        a=\"X\"\n",
    "    print(f\"{num} .- \" + str(a))\n",
    "    \n"
   ]
  },
  {
   "cell_type": "markdown",
   "metadata": {},
   "source": []
  }
 ],
 "metadata": {
  "kernelspec": {
   "display_name": "Python 3",
   "language": "python",
   "name": "python3"
  },
  "language_info": {
   "codemirror_mode": {
    "name": "ipython",
    "version": 3
   },
   "file_extension": ".py",
   "mimetype": "text/x-python",
   "name": "python",
   "nbconvert_exporter": "python",
   "pygments_lexer": "ipython3",
   "version": "3.11.3"
  }
 },
 "nbformat": 4,
 "nbformat_minor": 2
}
