{
 "cells": [
  {
   "cell_type": "code",
   "execution_count": 4,
   "metadata": {},
   "outputs": [
    {
     "name": "stdout",
     "output_type": "stream",
     "text": [
      "1 .- X\n",
      "2 .- 1\n",
      "3 .- 2\n",
      "4 .- X\n",
      "5 .- 2\n",
      "6 .- X\n",
      "7 .- 2\n",
      "8 .- 1\n",
      "9 .- 1\n",
      "10 .- 2\n",
      "11 .- 2\n",
      "12 .- 2\n",
      "13 .- 2\n",
      "14 .- X\n"
     ]
    }
   ],
   "source": [
    "import random\n",
    "\n",
    "for num in range(1,15):\n",
    "    a = random.randint(1,3)\n",
    "    if a==3:\n",
    "        a=\"X\"\n",
    "    print(f\"{num} .- \" + str(a))\n",
    "    \n"
   ]
  },
  {
   "cell_type": "markdown",
   "metadata": {},
   "source": []
  }
 ],
 "metadata": {
  "kernelspec": {
   "display_name": "Python 3",
   "language": "python",
   "name": "python3"
  },
  "language_info": {
   "codemirror_mode": {
    "name": "ipython",
    "version": 3
   },
   "file_extension": ".py",
   "mimetype": "text/x-python",
   "name": "python",
   "nbconvert_exporter": "python",
   "pygments_lexer": "ipython3",
   "version": "3.11.3"
  }
 },
 "nbformat": 4,
 "nbformat_minor": 2
}
