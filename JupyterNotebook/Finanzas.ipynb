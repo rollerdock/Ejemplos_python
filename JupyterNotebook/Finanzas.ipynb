{
 "cells": [
  {
   "cell_type": "code",
   "execution_count": 2,
   "metadata": {},
   "outputs": [
    {
     "ename": "ModuleNotFoundError",
     "evalue": "No module named 'mplfinance'",
     "output_type": "error",
     "traceback": [
      "\u001b[1;31m---------------------------------------------------------------------------\u001b[0m",
      "\u001b[1;31mModuleNotFoundError\u001b[0m                       Traceback (most recent call last)",
      "Cell \u001b[1;32mIn[2], line 3\u001b[0m\n\u001b[0;32m      2\u001b[0m \u001b[39mimport\u001b[39;00m \u001b[39mdatetime\u001b[39;00m \u001b[39mas\u001b[39;00m \u001b[39mdt\u001b[39;00m\n\u001b[1;32m----> 3\u001b[0m \u001b[39mimport\u001b[39;00m \u001b[39mmplfinance\u001b[39;00m \u001b[39mas\u001b[39;00m \u001b[39mmpf\u001b[39;00m\n\u001b[0;32m      5\u001b[0m start \u001b[39m=\u001b[39m dt\u001b[39m.\u001b[39mdatetime(\u001b[39m2021\u001b[39m,\u001b[39m3\u001b[39m,\u001b[39m5\u001b[39m)\n\u001b[0;32m      6\u001b[0m end \u001b[39m=\u001b[39m dt\u001b[39m.\u001b[39mdatetime(\u001b[39m2021\u001b[39m,\u001b[39m4\u001b[39m,\u001b[39m5\u001b[39m)\n",
      "\u001b[1;31mModuleNotFoundError\u001b[0m: No module named 'mplfinance'"
     ]
    }
   ],
   "source": [
    "\n",
    "import datetime as dt\n",
    "import mplfinance as mpf\n",
    "start = dt.datetime(2021,3,5)\n",
    "end = dt.datetime(2021,4,5)\n",
    "df = web.DataReader('^GSPC','yahoo',start,end)\n",
    "mpf.plot(df,type='candle',style='charles',title='SP 500',ylabel='Price ($)')"
   ]
  },
  {
   "cell_type": "code",
   "execution_count": null,
   "metadata": {},
   "outputs": [],
   "source": []
  },
  {
   "cell_type": "code",
   "execution_count": null,
   "metadata": {},
   "outputs": [],
   "source": []
  },
  {
   "cell_type": "code",
   "execution_count": null,
   "metadata": {},
   "outputs": [],
   "source": []
  }
 ],
 "metadata": {
  "kernelspec": {
   "display_name": "Python 3 (ipykernel)",
   "language": "python",
   "name": "python3"
  },
  "language_info": {
   "codemirror_mode": {
    "name": "ipython",
    "version": 3
   },
   "file_extension": ".py",
   "mimetype": "text/x-python",
   "name": "python",
   "nbconvert_exporter": "python",
   "pygments_lexer": "ipython3",
   "version": "3.11.3"
  }
 },
 "nbformat": 4,
 "nbformat_minor": 2
}
